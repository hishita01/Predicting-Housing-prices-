{
  "nbformat": 4,
  "nbformat_minor": 0,
  "metadata": {
    "colab": {
      "name": "Untitled1.ipynb",
      "provenance": [],
      "collapsed_sections": [],
      "authorship_tag": "ABX9TyPV90N0ATk+WZs3tejXR8/y",
      "include_colab_link": true
    },
    "kernelspec": {
      "name": "python3",
      "display_name": "Python 3"
    },
    "language_info": {
      "name": "python"
    }
  },
  "cells": [
    {
      "cell_type": "markdown",
      "metadata": {
        "id": "view-in-github",
        "colab_type": "text"
      },
      "source": [
        "<a href=\"https://colab.research.google.com/github/hishita01/Predicting-Housing-prices-/blob/main/Untitled1.ipynb\" target=\"_parent\"><img src=\"https://colab.research.google.com/assets/colab-badge.svg\" alt=\"Open In Colab\"/></a>"
      ]
    },
    {
      "cell_type": "code",
      "execution_count": 1,
      "metadata": {
        "id": "Nq9PWtx9haHu"
      },
      "outputs": [],
      "source": [
        "import keras\n",
        "import numpy as np\n",
        "import pandas as pd\n",
        "import matplotlib.pyplot as plt"
      ]
    },
    {
      "cell_type": "code",
      "source": [
        "import tensorflow as tf"
      ],
      "metadata": {
        "id": "EN6Al62QhdPj"
      },
      "execution_count": 7,
      "outputs": []
    },
    {
      "cell_type": "code",
      "source": [
        "from google.colab import drive\n",
        "drive.mount('/content/drive')"
      ],
      "metadata": {
        "colab": {
          "base_uri": "https://localhost:8080/"
        },
        "id": "84g-rBhZjXpf",
        "outputId": "40d30a86-a04a-433e-b99a-70736748523c"
      },
      "execution_count": 2,
      "outputs": [
        {
          "output_type": "stream",
          "name": "stdout",
          "text": [
            "Mounted at /content/drive\n"
          ]
        }
      ]
    },
    {
      "cell_type": "code",
      "source": [
        "df=pd.read_csv('/content/drive/MyDrive/ML/IowaHousingPrices.csv')"
      ],
      "metadata": {
        "id": "UWDBNaQXj9R0"
      },
      "execution_count": 3,
      "outputs": []
    },
    {
      "cell_type": "code",
      "source": [
        "squareFeet = df[['SquareFeet']].values \n",
        "salePrice = df[['SalePrice']].values "
      ],
      "metadata": {
        "id": "KJ9uy9pTk19s"
      },
      "execution_count": 4,
      "outputs": []
    },
    {
      "cell_type": "code",
      "source": [
        "model = keras.Sequential()\n",
        "model.add(keras.layers.Dense(1, input_shape=(1,)))\n",
        "model.compile(tf.keras.optimizers.Adam(lr=1), 'mean_squared_error')\n",
        "\n",
        "model.fit(squareFeet,salePrice, epochs=30, batch_size=10)"
      ],
      "metadata": {
        "colab": {
          "base_uri": "https://localhost:8080/"
        },
        "id": "bgohFBrTlEud",
        "outputId": "fb5cfa9c-3c78-48cf-efea-451389fe997a"
      },
      "execution_count": 8,
      "outputs": [
        {
          "output_type": "stream",
          "name": "stdout",
          "text": [
            "Epoch 1/30\n"
          ]
        },
        {
          "output_type": "stream",
          "name": "stderr",
          "text": [
            "/usr/local/lib/python3.7/dist-packages/keras/optimizer_v2/adam.py:105: UserWarning: The `lr` argument is deprecated, use `learning_rate` instead.\n",
            "  super(Adam, self).__init__(name, **kwargs)\n"
          ]
        },
        {
          "output_type": "stream",
          "name": "stdout",
          "text": [
            "146/146 [==============================] - 1s 1ms/step - loss: 14260033536.0000\n",
            "Epoch 2/30\n",
            "146/146 [==============================] - 0s 1ms/step - loss: 3312314368.0000\n",
            "Epoch 3/30\n",
            "146/146 [==============================] - 0s 1ms/step - loss: 3191758592.0000\n",
            "Epoch 4/30\n",
            "146/146 [==============================] - 0s 1ms/step - loss: 3188258560.0000\n",
            "Epoch 5/30\n",
            "146/146 [==============================] - 0s 1ms/step - loss: 3199419392.0000\n",
            "Epoch 6/30\n",
            "146/146 [==============================] - 0s 1ms/step - loss: 3198739712.0000\n",
            "Epoch 7/30\n",
            "146/146 [==============================] - 0s 1ms/step - loss: 3190840832.0000\n",
            "Epoch 8/30\n",
            "146/146 [==============================] - 0s 1ms/step - loss: 3185070080.0000\n",
            "Epoch 9/30\n",
            "146/146 [==============================] - 0s 1ms/step - loss: 3199393536.0000\n",
            "Epoch 10/30\n",
            "146/146 [==============================] - 0s 1ms/step - loss: 3196306944.0000\n",
            "Epoch 11/30\n",
            "146/146 [==============================] - 0s 1ms/step - loss: 3197729536.0000\n",
            "Epoch 12/30\n",
            "146/146 [==============================] - 0s 1ms/step - loss: 3225332992.0000\n",
            "Epoch 13/30\n",
            "146/146 [==============================] - 0s 1ms/step - loss: 3189877248.0000\n",
            "Epoch 14/30\n",
            "146/146 [==============================] - 0s 1ms/step - loss: 3191323392.0000\n",
            "Epoch 15/30\n",
            "146/146 [==============================] - 0s 1ms/step - loss: 3197245696.0000\n",
            "Epoch 16/30\n",
            "146/146 [==============================] - 0s 1ms/step - loss: 3216531968.0000\n",
            "Epoch 17/30\n",
            "146/146 [==============================] - 0s 1ms/step - loss: 3203418368.0000\n",
            "Epoch 18/30\n",
            "146/146 [==============================] - 0s 1ms/step - loss: 3187969024.0000\n",
            "Epoch 19/30\n",
            "146/146 [==============================] - 0s 1ms/step - loss: 3236766976.0000\n",
            "Epoch 20/30\n",
            "146/146 [==============================] - 0s 1ms/step - loss: 3194728448.0000\n",
            "Epoch 21/30\n",
            "146/146 [==============================] - 0s 1ms/step - loss: 3202551808.0000\n",
            "Epoch 22/30\n",
            "146/146 [==============================] - 0s 1ms/step - loss: 3208297472.0000\n",
            "Epoch 23/30\n",
            "146/146 [==============================] - 0s 1ms/step - loss: 3224638720.0000\n",
            "Epoch 24/30\n",
            "146/146 [==============================] - 0s 1ms/step - loss: 3216194048.0000\n",
            "Epoch 25/30\n",
            "146/146 [==============================] - 0s 1ms/step - loss: 3157622272.0000\n",
            "Epoch 26/30\n",
            "146/146 [==============================] - 0s 1ms/step - loss: 3225336576.0000\n",
            "Epoch 27/30\n",
            "146/146 [==============================] - 0s 1ms/step - loss: 3208541184.0000\n",
            "Epoch 28/30\n",
            "146/146 [==============================] - 0s 1ms/step - loss: 3206935296.0000\n",
            "Epoch 29/30\n",
            "146/146 [==============================] - 0s 1ms/step - loss: 3192781824.0000\n",
            "Epoch 30/30\n",
            "146/146 [==============================] - 0s 1ms/step - loss: 3214523136.0000\n"
          ]
        },
        {
          "output_type": "execute_result",
          "data": {
            "text/plain": [
              "<keras.callbacks.History at 0x7f316c9dd150>"
            ]
          },
          "metadata": {},
          "execution_count": 8
        }
      ]
    },
    {
      "cell_type": "code",
      "source": [
        "df.plot(kind='scatter',\n",
        "       x='SquareFeet',\n",
        "       y='SalePrice', title='Housing Prices and Square Footage of Iowa Homes')\n",
        "\n",
        "\n",
        "y_pred = model.predict(squareFeet)\n",
        "plt.plot(squareFeet, y_pred, color='red')"
      ],
      "metadata": {
        "colab": {
          "base_uri": "https://localhost:8080/",
          "height": 312
        },
        "id": "tcaa2TOIlRv6",
        "outputId": "f560f054-a706-4b4f-8b3f-74ccfb6a42fc"
      },
      "execution_count": 9,
      "outputs": [
        {
          "output_type": "execute_result",
          "data": {
            "text/plain": [
              "[<matplotlib.lines.Line2D at 0x7f316c82bdd0>]"
            ]
          },
          "metadata": {},
          "execution_count": 9
        },
        {
          "output_type": "display_data",
          "data": {
            "text/plain": [
              "<Figure size 432x288 with 1 Axes>"
            ],
            "image/png": "[encoded data removed]"
          },
          "metadata": {
            "needs_background": "light"
          }
        }
      ]
    },
    {
      "cell_type": "code",
      "source": [
        "newSF = 10000\n",
        "print(model.predict([newSF]))"
      ],
      "metadata": {
        "colab": {
          "base_uri": "https://localhost:8080/"
        },
        "id": "2NhYTokWm4sw",
        "outputId": "17c65529-9985-4d9d-8e4b-9fb20347b1b7"
      },
      "execution_count": 11,
      "outputs": [
        {
          "output_type": "stream",
          "name": "stdout",
          "text": [
            "[[1145284.]]\n"
          ]
        }
      ]
    },
    {
      "cell_type": "code",
      "source": [
        ""
      ],
      "metadata": {
        "id": "Oyz3gZqfnZPi"
      },
      "execution_count": null,
      "outputs": []
    },
    {
      "cell_type": "code",
      "source": [
        ""
      ],
      "metadata": {
        "id": "fmMCBet5wksS"
      },
      "execution_count": null,
      "outputs": []
    }
  ]
}